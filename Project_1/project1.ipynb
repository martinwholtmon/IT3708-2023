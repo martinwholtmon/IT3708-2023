{
 "cells": [
  {
   "cell_type": "code",
   "execution_count": 11,
   "metadata": {},
   "outputs": [],
   "source": [
    "from src.sga import SGA\n",
    "from src.fitnessfunction import sine"
   ]
  },
  {
   "attachments": {},
   "cell_type": "markdown",
   "metadata": {},
   "source": [
    "## Sine fitness function"
   ]
  },
  {
   "attachments": {},
   "cell_type": "markdown",
   "metadata": {},
   "source": [
    "### Hyperparameter tuning"
   ]
  },
  {
   "cell_type": "code",
   "execution_count": null,
   "metadata": {},
   "outputs": [],
   "source": []
  },
  {
   "attachments": {},
   "cell_type": "markdown",
   "metadata": {},
   "source": [
    "### Run simulation, maximize."
   ]
  },
  {
   "cell_type": "code",
   "execution_count": 12,
   "metadata": {},
   "outputs": [],
   "source": [
    "params_sine = {\n",
    "    'objective_function': sine,\n",
    "    'pop_size': 1000,\n",
    "    'individual_size': 15,\n",
    "    'max_generations': 15,\n",
    "    'crossover_rate': 0.6,\n",
    "    'mutation_rate': 0.06,\n",
    "}"
   ]
  },
  {
   "cell_type": "code",
   "execution_count": 14,
   "metadata": {},
   "outputs": [
    {
     "name": "stdout",
     "output_type": "stream",
     "text": [
      "0.011518513540344747\n",
      "0.3684367450758742\n",
      "0.497885169778305\n",
      "0.5801754199427868\n",
      "0.6269068383777805\n",
      "0.6495473692081356\n",
      "0.6481657203892849\n",
      "0.6851674180052615\n",
      "0.6884540878298493\n",
      "0.7052160423932211\n",
      "0.7208945218386675\n",
      "0.7113779677180594\n",
      "0.7317413066263546\n",
      "0.7333057527096645\n",
      "0.7444249765817977\n",
      "15 0\n"
     ]
    }
   ],
   "source": [
    "sga = SGA(**params_sine)\n",
    "population = sga.simulate()\n",
    "print(population.generation_nr, population.fitness)"
   ]
  },
  {
   "attachments": {},
   "cell_type": "markdown",
   "metadata": {},
   "source": [
    "## Linear regression of dataset"
   ]
  },
  {
   "attachments": {},
   "cell_type": "markdown",
   "metadata": {},
   "source": [
    "### Hyperparameter tuning"
   ]
  },
  {
   "cell_type": "code",
   "execution_count": null,
   "metadata": {},
   "outputs": [],
   "source": []
  },
  {
   "attachments": {},
   "cell_type": "markdown",
   "metadata": {},
   "source": [
    "### Run the simulation, Minimize"
   ]
  },
  {
   "cell_type": "code",
   "execution_count": null,
   "metadata": {},
   "outputs": [],
   "source": [
    "# params_linreg = {\n",
    "#     'objective_function': sine,\n",
    "#     'pop_size': 1000,\n",
    "#     'individual_size': 15,\n",
    "#     'max_generations': 15,\n",
    "#     'crossover_rate': 0.6,\n",
    "#     'mutation_rate': 0.06,\n",
    "# }"
   ]
  }
 ],
 "metadata": {
  "kernelspec": {
   "display_name": "venv",
   "language": "python",
   "name": "python3"
  },
  "language_info": {
   "codemirror_mode": {
    "name": "ipython",
    "version": 3
   },
   "file_extension": ".py",
   "mimetype": "text/x-python",
   "name": "python",
   "nbconvert_exporter": "python",
   "pygments_lexer": "ipython3",
   "version": "3.11.2"
  },
  "orig_nbformat": 4,
  "vscode": {
   "interpreter": {
    "hash": "03b43d4c9a34e5f8b725851487c901b8f116d417e7dc67653d2cf89ea56f51ce"
   }
  }
 },
 "nbformat": 4,
 "nbformat_minor": 2
}
