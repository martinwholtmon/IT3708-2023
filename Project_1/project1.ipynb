{
 "cells": [
  {
   "cell_type": "code",
   "execution_count": 1,
   "metadata": {},
   "outputs": [],
   "source": [
    "from src.sga import SGA\n",
    "from src.fitnessfunction import ObjectiveSine, ObjectiveLinReg\n",
    "from src.lin_reg import LinReg\n",
    "import numpy as np\n",
    "seed = 99\n",
    "# seed = None"
   ]
  },
  {
   "attachments": {},
   "cell_type": "markdown",
   "metadata": {},
   "source": [
    "## Sine fitness function"
   ]
  },
  {
   "attachments": {},
   "cell_type": "markdown",
   "metadata": {},
   "source": [
    "### Run simulation, maximize."
   ]
  },
  {
   "cell_type": "code",
   "execution_count": 2,
   "metadata": {},
   "outputs": [],
   "source": [
    "params_sine = {\n",
    "    \"objective_function\": ObjectiveSine().get_fitness,\n",
    "    \"maximize\": True,\n",
    "    \"pop_size\": 100,\n",
    "    \"individual_size\": 15,\n",
    "    \"max_generations\": 10,\n",
    "    \"crossover_rate\": 0.6,\n",
    "    \"mutation_rate\": 0.05,\n",
    "}"
   ]
  },
  {
   "cell_type": "code",
   "execution_count": 3,
   "metadata": {},
   "outputs": [
    {
     "name": "stdout",
     "output_type": "stream",
     "text": [
      "Generation 0 avg. fitness: 0.04639773975770039\n",
      "Generation 1 avg. fitness: 0.78996601193218\n",
      "Generation 2 avg. fitness: 0.9370102072502814\n",
      "Generation 3 avg. fitness: 0.9636551018266449\n",
      "Generation 4 avg. fitness: 0.980041212642285\n",
      "Generation 5 avg. fitness: 0.9852578356516706\n",
      "Generation 6 avg. fitness: 0.9898882064131201\n",
      "Generation 7 avg. fitness: 0.9920379490275496\n",
      "Generation 8 avg. fitness: 0.9958273170956383\n",
      "Generation 9 avg. fitness: 0.9966781861111013\n",
      "Generation 10 avg. fitness: 0.9977113882130126\n",
      "[1 1 1 0 0 1 0 1 0 1 0 1 1 0 1] 114.67578125 0.9999707435285844\n"
     ]
    }
   ],
   "source": [
    "sga = SGA(**params_sine)\n",
    "solution = sga.simulate()\n",
    "print(solution.bitstring, solution.value, solution.fitness)"
   ]
  },
  {
   "attachments": {},
   "cell_type": "markdown",
   "metadata": {},
   "source": [
    "#### Run simulation with constraint"
   ]
  },
  {
   "cell_type": "code",
   "execution_count": 4,
   "metadata": {},
   "outputs": [],
   "source": [
    "# sga = SGA(**params_sine)\n",
    "# solution = sga.simulate()\n",
    "# print(solution.bitstring, solution.value, solution.fitness)"
   ]
  },
  {
   "attachments": {},
   "cell_type": "markdown",
   "metadata": {},
   "source": [
    "## Linear regression of dataset"
   ]
  },
  {
   "cell_type": "code",
   "execution_count": 5,
   "metadata": {},
   "outputs": [],
   "source": [
    "# Load dataset\n",
    "data_path = r\"./data/dataset.txt\"\n",
    "df = np.genfromtxt(data_path, delimiter=\",\")\n",
    "y = df[:, -1]\n",
    "X = np.delete(df, -1, axis=1)"
   ]
  },
  {
   "attachments": {},
   "cell_type": "markdown",
   "metadata": {},
   "source": [
    "### Run the simulation, Minimize"
   ]
  },
  {
   "cell_type": "code",
   "execution_count": 6,
   "metadata": {},
   "outputs": [
    {
     "name": "stdout",
     "output_type": "stream",
     "text": [
      "RMSE entire dataset: 0.13530625063199608\n"
     ]
    }
   ],
   "source": [
    "# Run on entire dataset\n",
    "linreg_err = LinReg().get_fitness(X, y, seed)\n",
    "print(f\"RMSE entire dataset: {linreg_err}\")"
   ]
  },
  {
   "cell_type": "code",
   "execution_count": 7,
   "metadata": {},
   "outputs": [],
   "source": [
    "params_linreg = {\n",
    "    \"objective_function\": ObjectiveLinReg(X, y, seed=seed).get_fitness,\n",
    "    \"maximize\": False,\n",
    "    \"pop_size\": 250,\n",
    "    \"individual_size\": X.shape[1],\n",
    "    \"max_generations\": 30,\n",
    "    \"crossover_rate\": 0.6,\n",
    "    \"mutation_rate\": 0.05,\n",
    "}"
   ]
  },
  {
   "cell_type": "code",
   "execution_count": 8,
   "metadata": {},
   "outputs": [
    {
     "name": "stdout",
     "output_type": "stream",
     "text": [
      "Generation 0 avg. fitness: 0.13618398082327415\n",
      "Generation 1 avg. fitness: 0.13355225431731105\n",
      "Generation 2 avg. fitness: 0.1318474103360501\n",
      "Generation 3 avg. fitness: 0.13059292254712065\n",
      "Generation 4 avg. fitness: 0.1294109188987314\n",
      "Generation 5 avg. fitness: 0.12847851973858973\n",
      "Generation 6 avg. fitness: 0.12782407365019616\n",
      "Generation 7 avg. fitness: 0.12715619043553908\n",
      "Generation 8 avg. fitness: 0.12603707802406228\n",
      "Generation 9 avg. fitness: 0.12551581878142976\n",
      "Generation 10 avg. fitness: 0.12506895568649304\n",
      "Generation 11 avg. fitness: 0.12459126656681378\n",
      "Generation 12 avg. fitness: 0.12429621960777414\n",
      "Generation 13 avg. fitness: 0.12404672879575127\n",
      "Generation 14 avg. fitness: 0.1237779001698444\n",
      "Generation 15 avg. fitness: 0.12353620170160413\n",
      "Generation 16 avg. fitness: 0.12337180272147216\n",
      "Generation 17 avg. fitness: 0.12321613098189081\n",
      "Generation 18 avg. fitness: 0.12316125060882863\n",
      "Generation 19 avg. fitness: 0.12307628053324239\n",
      "Generation 20 avg. fitness: 0.12298993211145696\n",
      "Generation 21 avg. fitness: 0.12289678276492928\n",
      "Generation 22 avg. fitness: 0.12281928186361075\n",
      "Generation 23 avg. fitness: 0.12276850615433597\n",
      "Generation 24 avg. fitness: 0.12273440435460392\n",
      "Generation 25 avg. fitness: 0.12265942010576085\n",
      "Generation 26 avg. fitness: 0.12259970471683303\n",
      "Generation 27 avg. fitness: 0.12256541398259896\n",
      "Generation 28 avg. fitness: 0.12247046476891171\n",
      "Generation 29 avg. fitness: 0.12240935897278862\n",
      "Generation 30 avg. fitness: 0.12236236772321031\n",
      "[1 1 1 0 0 0 0 0 0 1 1 0 0 1 0 1 1 1 0 0 1 0 0 0 0 0 0 1 0 1 1 0 1 1 1 0 1\n",
      " 0 0 1 1 1 1 1 1 1 0 0 1 0 1 1 0 1 1 1 0 0 1 1 0 0 1 1 1 1 0 1 1 1 0 1 1 0\n",
      " 1 1 1 0 1 1 1 0 0 1 0 1 0 0 0 0 0 1 1 0 0 1 0 0 0 0 0] 0 0.12216136998865407\n"
     ]
    }
   ],
   "source": [
    "sga = SGA(**params_linreg)\n",
    "solution = sga.simulate()\n",
    "print(solution.bitstring, solution.value, solution.fitness)"
   ]
  }
 ],
 "metadata": {
  "kernelspec": {
   "display_name": "venv",
   "language": "python",
   "name": "python3"
  },
  "language_info": {
   "codemirror_mode": {
    "name": "ipython",
    "version": 3
   },
   "file_extension": ".py",
   "mimetype": "text/x-python",
   "name": "python",
   "nbconvert_exporter": "python",
   "pygments_lexer": "ipython3",
   "version": "3.11.2"
  },
  "orig_nbformat": 4,
  "vscode": {
   "interpreter": {
    "hash": "03b43d4c9a34e5f8b725851487c901b8f116d417e7dc67653d2cf89ea56f51ce"
   }
  }
 },
 "nbformat": 4,
 "nbformat_minor": 2
}
