{
 "cells": [
  {
   "cell_type": "code",
   "execution_count": 1,
   "metadata": {},
   "outputs": [],
   "source": [
    "from src.sga import SGA\n",
    "from src.fitnessfunction import ObjectiveSine, ObjectiveLinReg\n",
    "from src.lin_reg import LinReg\n",
    "import numpy as np\n",
    "seed = 99\n",
    "# seed = None"
   ]
  },
  {
   "attachments": {},
   "cell_type": "markdown",
   "metadata": {},
   "source": [
    "## Sine fitness function"
   ]
  },
  {
   "attachments": {},
   "cell_type": "markdown",
   "metadata": {},
   "source": [
    "### Run simulation, maximize."
   ]
  },
  {
   "cell_type": "code",
   "execution_count": 2,
   "metadata": {},
   "outputs": [],
   "source": [
    "params_sine = {\n",
    "    \"objective_function\": ObjectiveSine().get_fitness,\n",
    "    \"maximize\": True,\n",
    "    \"pop_size\": 100,\n",
    "    \"individual_size\": 15,\n",
    "    \"max_generations\": 10,\n",
    "    \"crossover_rate\": 0.6,\n",
    "    \"mutation_rate\": 0.05,\n",
    "}"
   ]
  },
  {
   "cell_type": "code",
   "execution_count": 3,
   "metadata": {},
   "outputs": [
    {
     "name": "stdout",
     "output_type": "stream",
     "text": [
      "Generation 0 avg. fitness: -0.05619114821505339\n",
      "Generation 1 avg. fitness: 0.7206432888909261\n",
      "Generation 2 avg. fitness: 0.9183791076130777\n",
      "Generation 3 avg. fitness: 0.9714317031573604\n",
      "Generation 4 avg. fitness: 0.9816423876786906\n",
      "Generation 5 avg. fitness: 0.9868467183986414\n",
      "Generation 6 avg. fitness: 0.9911836400486334\n",
      "Generation 7 avg. fitness: 0.9937783455066801\n",
      "Generation 8 avg. fitness: 0.9958094423915276\n",
      "Generation 9 avg. fitness: 0.9970134578473175\n",
      "Generation 10 avg. fitness: 0.9974868087462039\n",
      "[0 0 0 0 1 1 1 1 1 0 1 1 1 0 0] 7.859375 0.9999854558367129\n"
     ]
    }
   ],
   "source": [
    "sga = SGA(**params_sine)\n",
    "solutions = sga.simulate()\n",
    "solution = solutions[0]\n",
    "print(solution.bitstring, solution.value, solution.fitness)"
   ]
  },
  {
   "attachments": {},
   "cell_type": "markdown",
   "metadata": {},
   "source": [
    "#### Run simulation with constraint"
   ]
  },
  {
   "cell_type": "code",
   "execution_count": 5,
   "metadata": {},
   "outputs": [
    {
     "name": "stdout",
     "output_type": "stream",
     "text": [
      "Generation 0 avg. fitness: 0.011913457514021007\n",
      "Generation 1 avg. fitness: 0.7068201511699017\n",
      "Generation 2 avg. fitness: 0.9155374648104473\n",
      "Generation 3 avg. fitness: 0.956843054395673\n",
      "Generation 4 avg. fitness: 0.9687964288438243\n",
      "Generation 5 avg. fitness: 0.9758774889695278\n",
      "Generation 6 avg. fitness: 0.9834485955333738\n",
      "Generation 7 avg. fitness: 0.9861210855509781\n",
      "Generation 8 avg. fitness: 0.9893559604891021\n",
      "Generation 9 avg. fitness: 0.9931374869117857\n",
      "Generation 10 avg. fitness: 0.9938784007510875\n",
      "[0 0 0 0 0 0 1 1 0 0 1 0 0 1 0] 1.5703125 0.9999998829558185\n"
     ]
    }
   ],
   "source": [
    "sga = SGA(**params_sine)\n",
    "solutions = sga.simulate()\n",
    "constraint = [5,10]\n",
    "\n",
    "solution = None\n",
    "for s in solutions:\n",
    "    if s.value <= constraint[0] <= constraint[1]:\n",
    "        solution = s\n",
    "        break\n",
    "\n",
    "if solution is not None:\n",
    "    print(solution.bitstring, solution.value, solution.fitness)\n",
    "else:\n",
    "    print(\"Could not find a solution that satisfies the constraint\")"
   ]
  },
  {
   "attachments": {},
   "cell_type": "markdown",
   "metadata": {},
   "source": [
    "## Linear regression of dataset"
   ]
  },
  {
   "cell_type": "code",
   "execution_count": 6,
   "metadata": {},
   "outputs": [],
   "source": [
    "# Load dataset\n",
    "data_path = r\"./data/dataset.txt\"\n",
    "df = np.genfromtxt(data_path, delimiter=\",\")\n",
    "y = df[:, -1]\n",
    "X = np.delete(df, -1, axis=1)"
   ]
  },
  {
   "attachments": {},
   "cell_type": "markdown",
   "metadata": {},
   "source": [
    "### Run the simulation, Minimize"
   ]
  },
  {
   "cell_type": "code",
   "execution_count": 7,
   "metadata": {},
   "outputs": [
    {
     "name": "stdout",
     "output_type": "stream",
     "text": [
      "RMSE entire dataset: 0.13530625063199608\n"
     ]
    }
   ],
   "source": [
    "# Run on entire dataset\n",
    "linreg_err = LinReg().get_fitness(X, y, seed)\n",
    "print(f\"RMSE entire dataset: {linreg_err}\")"
   ]
  },
  {
   "cell_type": "code",
   "execution_count": 8,
   "metadata": {},
   "outputs": [],
   "source": [
    "params_linreg = {\n",
    "    \"objective_function\": ObjectiveLinReg(X, y, seed=seed).get_fitness,\n",
    "    \"maximize\": False,\n",
    "    \"pop_size\": 250,\n",
    "    \"individual_size\": X.shape[1],\n",
    "    \"max_generations\": 30,\n",
    "    \"crossover_rate\": 0.6,\n",
    "    \"mutation_rate\": 0.05,\n",
    "}"
   ]
  },
  {
   "cell_type": "code",
   "execution_count": 9,
   "metadata": {},
   "outputs": [
    {
     "name": "stdout",
     "output_type": "stream",
     "text": [
      "Generation 0 avg. fitness: 0.1363909187942144\n",
      "Generation 1 avg. fitness: 0.13375102424114382\n",
      "Generation 2 avg. fitness: 0.1324204373861723\n",
      "Generation 3 avg. fitness: 0.1311808209851101\n",
      "Generation 4 avg. fitness: 0.1301586567281634\n",
      "Generation 5 avg. fitness: 0.12887060927839522\n",
      "Generation 6 avg. fitness: 0.12786974745335555\n",
      "Generation 7 avg. fitness: 0.12715504593312524\n",
      "Generation 8 avg. fitness: 0.12652801934710872\n",
      "Generation 9 avg. fitness: 0.12576475401285228\n",
      "Generation 10 avg. fitness: 0.12513771926381168\n",
      "Generation 11 avg. fitness: 0.12437629903418258\n",
      "Generation 12 avg. fitness: 0.1240193323421671\n",
      "Generation 13 avg. fitness: 0.12379553420263609\n",
      "Generation 14 avg. fitness: 0.12352183375948314\n",
      "Generation 15 avg. fitness: 0.12322630088532671\n",
      "Generation 16 avg. fitness: 0.12289832381693157\n",
      "Generation 17 avg. fitness: 0.12273890499062882\n",
      "Generation 18 avg. fitness: 0.12257629876350563\n",
      "Generation 19 avg. fitness: 0.12240896064386636\n",
      "Generation 20 avg. fitness: 0.12219573646718819\n",
      "Generation 21 avg. fitness: 0.12199616358349998\n",
      "Generation 22 avg. fitness: 0.1218271145906582\n",
      "Generation 23 avg. fitness: 0.12171112505263897\n",
      "Generation 24 avg. fitness: 0.12167528926600764\n",
      "Generation 25 avg. fitness: 0.12164111636507643\n",
      "Generation 26 avg. fitness: 0.12161158143858475\n",
      "Generation 27 avg. fitness: 0.12158467146182476\n",
      "Generation 28 avg. fitness: 0.12155274415379069\n",
      "Generation 29 avg. fitness: 0.12152500548388953\n",
      "Generation 30 avg. fitness: 0.12148874718421944\n",
      "[1 1 0 0 0 0 0 1 1 1 0 0 1 1 0 1 0 1 0 0 1 0 0 0 1 0 0 1 1 0 1 0 0 0 1 0 1\n",
      " 1 1 1 1 1 1 1 0 1 0 0 0 0 0 1 0 0 0 0 1 0 0 0 0 1 1 0 1 1 1 1 1 0 1 0 1 0\n",
      " 1 1 1 0 0 1 1 1 1 1 1 0 0 0 1 1 0 1 1 0 1 0 0 1 0 0 1] 0 0.12129592024024838\n"
     ]
    }
   ],
   "source": [
    "sga = SGA(**params_linreg)\n",
    "solution = sga.simulate()[0]\n",
    "print(solution.bitstring, solution.value, solution.fitness)"
   ]
  }
 ],
 "metadata": {
  "kernelspec": {
   "display_name": "venv",
   "language": "python",
   "name": "python3"
  },
  "language_info": {
   "codemirror_mode": {
    "name": "ipython",
    "version": 3
   },
   "file_extension": ".py",
   "mimetype": "text/x-python",
   "name": "python",
   "nbconvert_exporter": "python",
   "pygments_lexer": "ipython3",
   "version": "3.11.2"
  },
  "orig_nbformat": 4,
  "vscode": {
   "interpreter": {
    "hash": "03b43d4c9a34e5f8b725851487c901b8f116d417e7dc67653d2cf89ea56f51ce"
   }
  }
 },
 "nbformat": 4,
 "nbformat_minor": 2
}
